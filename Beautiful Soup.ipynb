{
 "cells": [
  {
   "cell_type": "code",
   "execution_count": 64,
   "id": "edf8d774",
   "metadata": {},
   "outputs": [],
   "source": [
    "import requests\n",
    "from bs4 import BeautifulSoup\n",
    "import re\n",
    "import pandas as pd"
   ]
  },
  {
   "cell_type": "markdown",
   "id": "3fb6f39d",
   "metadata": {},
   "source": [
    "Requerindo acesso para o site e o salvando em objeto do BeautifulSoup."
   ]
  },
  {
   "cell_type": "code",
   "execution_count": 51,
   "id": "2b829d94",
   "metadata": {},
   "outputs": [],
   "source": [
    "response = requests.get(\"https://www.imdb.com/chart/toptv/\")"
   ]
  },
  {
   "cell_type": "code",
   "execution_count": 52,
   "id": "7f85db9b",
   "metadata": {},
   "outputs": [],
   "source": [
    "content = response.content"
   ]
  },
  {
   "cell_type": "code",
   "execution_count": 53,
   "id": "c70bc30d",
   "metadata": {},
   "outputs": [],
   "source": [
    "site = BeautifulSoup(content, 'html.parser')"
   ]
  },
  {
   "cell_type": "markdown",
   "id": "f77d3ddf",
   "metadata": {},
   "source": [
    "Sintaxe para a obtenção de cada variável"
   ]
  },
  {
   "cell_type": "code",
   "execution_count": 54,
   "id": "f9b4bf2c",
   "metadata": {},
   "outputs": [],
   "source": [
    "# TitleColumn Class\n",
    "titlecolumn = site.find('td', attrs={\"class\": \"titleColumn\"})"
   ]
  },
  {
   "cell_type": "code",
   "execution_count": 55,
   "id": "fff6b458",
   "metadata": {},
   "outputs": [
    {
     "data": {
      "text/plain": [
       "'Planeta Terra II'"
      ]
     },
     "execution_count": 55,
     "metadata": {},
     "output_type": "execute_result"
    }
   ],
   "source": [
    "# Título\n",
    "titulo = titlecolumn.find('a').text\n",
    "titulo"
   ]
  },
  {
   "cell_type": "code",
   "execution_count": 56,
   "id": "2e0d1623",
   "metadata": {},
   "outputs": [
    {
     "data": {
      "text/plain": [
       "'2016'"
      ]
     },
     "execution_count": 56,
     "metadata": {},
     "output_type": "execute_result"
    }
   ],
   "source": [
    "# Ano\n",
    "ano = titlecolumn.find('span').text[1:-1]\n",
    "ano"
   ]
  },
  {
   "cell_type": "code",
   "execution_count": 57,
   "id": "22067d68",
   "metadata": {},
   "outputs": [
    {
     "data": {
      "text/plain": [
       "'9.4'"
      ]
     },
     "execution_count": 57,
     "metadata": {},
     "output_type": "execute_result"
    }
   ],
   "source": [
    "# Nota\n",
    "nota = site.find('strong').text\n",
    "nota"
   ]
  },
  {
   "cell_type": "code",
   "execution_count": 58,
   "id": "48ad05da",
   "metadata": {},
   "outputs": [
    {
     "data": {
      "text/plain": [
       "'132,806'"
      ]
     },
     "execution_count": 58,
     "metadata": {},
     "output_type": "execute_result"
    }
   ],
   "source": [
    "# Votos\n",
    "votos_tag = site.find('strong')\n",
    "votos = re.search('<strong title=\"[0-9]\\.[0-9] based on (.+?) user ratings\">[0-9]\\.[0-9]</strong>', str(votos_tag)).group(1)\n",
    "votos"
   ]
  },
  {
   "cell_type": "markdown",
   "id": "5d934ecc",
   "metadata": {},
   "source": [
    "Salvando os valores de \"título\" e \"ano\""
   ]
  },
  {
   "cell_type": "code",
   "execution_count": 59,
   "id": "9ba547f3",
   "metadata": {},
   "outputs": [],
   "source": [
    "titleColumns = site.find_all('td', attrs={\"class\": \"titleColumn\"})"
   ]
  },
  {
   "cell_type": "code",
   "execution_count": 60,
   "id": "1f2d6bd3",
   "metadata": {},
   "outputs": [],
   "source": [
    "titulo = list()\n",
    "ano = list()\n",
    "\n",
    "for column in titleColumns:\n",
    "    titulo.append(column.find('a').text)\n",
    "    ano.append(column.find('span').text[1:-1])"
   ]
  },
  {
   "cell_type": "markdown",
   "id": "028850e3",
   "metadata": {},
   "source": [
    "Salvando os valores de \"rating\" e \"votes\""
   ]
  },
  {
   "cell_type": "code",
   "execution_count": 61,
   "id": "6241a744",
   "metadata": {},
   "outputs": [],
   "source": [
    "notas_tag = site.find_all('strong')"
   ]
  },
  {
   "cell_type": "code",
   "execution_count": 62,
   "id": "88dae3f8",
   "metadata": {},
   "outputs": [],
   "source": [
    "nota = list()\n",
    "votos = list()\n",
    "\n",
    "for valor in ratings:\n",
    "    nota.append(valor.text)\n",
    "    votos.append(re.search('<strong title=\"[0-9]\\.[0-9] based on (.+?) user ratings\">[0-9]\\.[0-9]</strong>', str(valor)).group(1))"
   ]
  },
  {
   "cell_type": "code",
   "execution_count": 66,
   "id": "f8e695b1",
   "metadata": {},
   "outputs": [],
   "source": [
    "series = {\n",
    "    'Título': titulo,\n",
    "    'Ano': ano,\n",
    "    'Nota': nota,\n",
    "    'Votos': votos\n",
    "}"
   ]
  },
  {
   "cell_type": "code",
   "execution_count": 70,
   "id": "c996afed",
   "metadata": {},
   "outputs": [
    {
     "data": {
      "text/html": [
       "<div>\n",
       "<style scoped>\n",
       "    .dataframe tbody tr th:only-of-type {\n",
       "        vertical-align: middle;\n",
       "    }\n",
       "\n",
       "    .dataframe tbody tr th {\n",
       "        vertical-align: top;\n",
       "    }\n",
       "\n",
       "    .dataframe thead th {\n",
       "        text-align: right;\n",
       "    }\n",
       "</style>\n",
       "<table border=\"1\" class=\"dataframe\">\n",
       "  <thead>\n",
       "    <tr style=\"text-align: right;\">\n",
       "      <th></th>\n",
       "      <th>Título</th>\n",
       "      <th>Ano</th>\n",
       "      <th>Nota</th>\n",
       "      <th>Votos</th>\n",
       "    </tr>\n",
       "  </thead>\n",
       "  <tbody>\n",
       "    <tr>\n",
       "      <th>0</th>\n",
       "      <td>Planeta Terra II</td>\n",
       "      <td>2016</td>\n",
       "      <td>9.4</td>\n",
       "      <td>132,806</td>\n",
       "    </tr>\n",
       "    <tr>\n",
       "      <th>1</th>\n",
       "      <td>Breaking Bad</td>\n",
       "      <td>2008</td>\n",
       "      <td>9.4</td>\n",
       "      <td>1,740,972</td>\n",
       "    </tr>\n",
       "    <tr>\n",
       "      <th>2</th>\n",
       "      <td>Planeta Terra</td>\n",
       "      <td>2006</td>\n",
       "      <td>9.4</td>\n",
       "      <td>199,344</td>\n",
       "    </tr>\n",
       "    <tr>\n",
       "      <th>3</th>\n",
       "      <td>Irmãos de Guerra</td>\n",
       "      <td>2001</td>\n",
       "      <td>9.4</td>\n",
       "      <td>444,991</td>\n",
       "    </tr>\n",
       "    <tr>\n",
       "      <th>4</th>\n",
       "      <td>Chernobyl</td>\n",
       "      <td>2019</td>\n",
       "      <td>9.3</td>\n",
       "      <td>700,973</td>\n",
       "    </tr>\n",
       "    <tr>\n",
       "      <th>...</th>\n",
       "      <td>...</td>\n",
       "      <td>...</td>\n",
       "      <td>...</td>\n",
       "      <td>...</td>\n",
       "    </tr>\n",
       "    <tr>\n",
       "      <th>245</th>\n",
       "      <td>Love, Death &amp; Robots</td>\n",
       "      <td>2019</td>\n",
       "      <td>8.4</td>\n",
       "      <td>145,339</td>\n",
       "    </tr>\n",
       "    <tr>\n",
       "      <th>246</th>\n",
       "      <td>Clannad: After Story</td>\n",
       "      <td>2008</td>\n",
       "      <td>8.4</td>\n",
       "      <td>10,889</td>\n",
       "    </tr>\n",
       "    <tr>\n",
       "      <th>247</th>\n",
       "      <td>Rocket Boys</td>\n",
       "      <td>2022</td>\n",
       "      <td>8.4</td>\n",
       "      <td>10,828</td>\n",
       "    </tr>\n",
       "    <tr>\n",
       "      <th>248</th>\n",
       "      <td>Harley Quinn</td>\n",
       "      <td>2019</td>\n",
       "      <td>8.4</td>\n",
       "      <td>23,686</td>\n",
       "    </tr>\n",
       "    <tr>\n",
       "      <th>249</th>\n",
       "      <td>Foyle's War</td>\n",
       "      <td>2002</td>\n",
       "      <td>8.4</td>\n",
       "      <td>15,037</td>\n",
       "    </tr>\n",
       "  </tbody>\n",
       "</table>\n",
       "<p>250 rows × 4 columns</p>\n",
       "</div>"
      ],
      "text/plain": [
       "                   Título   Ano Nota      Votos\n",
       "0        Planeta Terra II  2016  9.4    132,806\n",
       "1            Breaking Bad  2008  9.4  1,740,972\n",
       "2           Planeta Terra  2006  9.4    199,344\n",
       "3        Irmãos de Guerra  2001  9.4    444,991\n",
       "4               Chernobyl  2019  9.3    700,973\n",
       "..                    ...   ...  ...        ...\n",
       "245  Love, Death & Robots  2019  8.4    145,339\n",
       "246  Clannad: After Story  2008  8.4     10,889\n",
       "247           Rocket Boys  2022  8.4     10,828\n",
       "248          Harley Quinn  2019  8.4     23,686\n",
       "249           Foyle's War  2002  8.4     15,037\n",
       "\n",
       "[250 rows x 4 columns]"
      ]
     },
     "execution_count": 70,
     "metadata": {},
     "output_type": "execute_result"
    }
   ],
   "source": [
    "df = pd.DataFrame(series)\n",
    "df"
   ]
  },
  {
   "cell_type": "code",
   "execution_count": 69,
   "id": "79828b9f",
   "metadata": {},
   "outputs": [],
   "source": [
    "df.to_excel('series_imdb.xlsx', index=False)"
   ]
  },
  {
   "cell_type": "code",
   "execution_count": null,
   "id": "30fd347b",
   "metadata": {},
   "outputs": [],
   "source": []
  }
 ],
 "metadata": {
  "kernelspec": {
   "display_name": "Python 3 (ipykernel)",
   "language": "python",
   "name": "python3"
  },
  "language_info": {
   "codemirror_mode": {
    "name": "ipython",
    "version": 3
   },
   "file_extension": ".py",
   "mimetype": "text/x-python",
   "name": "python",
   "nbconvert_exporter": "python",
   "pygments_lexer": "ipython3",
   "version": "3.9.7"
  }
 },
 "nbformat": 4,
 "nbformat_minor": 5
}
